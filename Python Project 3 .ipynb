{
 "cells": [
  {
   "cell_type": "code",
   "execution_count": 1,
   "metadata": {},
   "outputs": [],
   "source": [
    "# Import required packages\n",
    "import pandas as pd\n",
    "import numpy as np\n",
    "import seaborn as sns"
   ]
  },
  {
   "cell_type": "code",
   "execution_count": 2,
   "metadata": {},
   "outputs": [],
   "source": [
    "# Import the dataset\n",
    "file = \"NYPD_Arrest_Data__Year_to_Date.csv\"\n",
    "df =  pd.read_csv(file)"
   ]
  },
  {
   "cell_type": "code",
   "execution_count": 3,
   "metadata": {},
   "outputs": [
    {
     "data": {
      "text/html": [
       "<div>\n",
       "<style scoped>\n",
       "    .dataframe tbody tr th:only-of-type {\n",
       "        vertical-align: middle;\n",
       "    }\n",
       "\n",
       "    .dataframe tbody tr th {\n",
       "        vertical-align: top;\n",
       "    }\n",
       "\n",
       "    .dataframe thead th {\n",
       "        text-align: right;\n",
       "    }\n",
       "</style>\n",
       "<table border=\"1\" class=\"dataframe\">\n",
       "  <thead>\n",
       "    <tr style=\"text-align: right;\">\n",
       "      <th></th>\n",
       "      <th>ARREST_KEY</th>\n",
       "      <th>ARREST_DATE</th>\n",
       "      <th>PD_CD</th>\n",
       "      <th>PD_DESC</th>\n",
       "      <th>KY_CD</th>\n",
       "      <th>OFNS_DESC</th>\n",
       "      <th>LAW_CODE</th>\n",
       "      <th>LAW_CAT_CD</th>\n",
       "      <th>ARREST_BORO</th>\n",
       "      <th>ARREST_PRECINCT</th>\n",
       "      <th>JURISDICTION_CODE</th>\n",
       "      <th>AGE_GROUP</th>\n",
       "      <th>PERP_SEX</th>\n",
       "      <th>PERP_RACE</th>\n",
       "      <th>X_COORD_CD</th>\n",
       "      <th>Y_COORD_CD</th>\n",
       "      <th>Latitude</th>\n",
       "      <th>Longitude</th>\n",
       "      <th>New Georeferenced Column</th>\n",
       "    </tr>\n",
       "  </thead>\n",
       "  <tbody>\n",
       "    <tr>\n",
       "      <th>0</th>\n",
       "      <td>263187871</td>\n",
       "      <td>02/07/2023</td>\n",
       "      <td>105.0</td>\n",
       "      <td>STRANGULATION 1ST</td>\n",
       "      <td>106.0</td>\n",
       "      <td>FELONY ASSAULT</td>\n",
       "      <td>PL 1211200</td>\n",
       "      <td>F</td>\n",
       "      <td>S</td>\n",
       "      <td>120</td>\n",
       "      <td>0</td>\n",
       "      <td>25-44</td>\n",
       "      <td>M</td>\n",
       "      <td>BLACK</td>\n",
       "      <td>951637</td>\n",
       "      <td>171141</td>\n",
       "      <td>40.636362</td>\n",
       "      <td>-74.117505</td>\n",
       "      <td>POINT (-74.117505 40.636362)</td>\n",
       "    </tr>\n",
       "    <tr>\n",
       "      <th>1</th>\n",
       "      <td>261368273</td>\n",
       "      <td>01/04/2023</td>\n",
       "      <td>NaN</td>\n",
       "      <td>(null)</td>\n",
       "      <td>NaN</td>\n",
       "      <td>(null)</td>\n",
       "      <td>RPA0076801</td>\n",
       "      <td>M</td>\n",
       "      <td>M</td>\n",
       "      <td>34</td>\n",
       "      <td>0</td>\n",
       "      <td>25-44</td>\n",
       "      <td>F</td>\n",
       "      <td>BLACK</td>\n",
       "      <td>1004287</td>\n",
       "      <td>251338</td>\n",
       "      <td>40.856519</td>\n",
       "      <td>-73.927564</td>\n",
       "      <td>POINT (-73.927564 40.856519)</td>\n",
       "    </tr>\n",
       "    <tr>\n",
       "      <th>2</th>\n",
       "      <td>261667175</td>\n",
       "      <td>01/10/2023</td>\n",
       "      <td>101.0</td>\n",
       "      <td>ASSAULT 3</td>\n",
       "      <td>344.0</td>\n",
       "      <td>ASSAULT 3 &amp; RELATED OFFENSES</td>\n",
       "      <td>PL 1200001</td>\n",
       "      <td>M</td>\n",
       "      <td>B</td>\n",
       "      <td>42</td>\n",
       "      <td>0</td>\n",
       "      <td>18-24</td>\n",
       "      <td>F</td>\n",
       "      <td>WHITE HISPANIC</td>\n",
       "      <td>1008754</td>\n",
       "      <td>238895</td>\n",
       "      <td>40.822355</td>\n",
       "      <td>-73.911463</td>\n",
       "      <td>POINT (-73.911463 40.822355)</td>\n",
       "    </tr>\n",
       "    <tr>\n",
       "      <th>3</th>\n",
       "      <td>264298625</td>\n",
       "      <td>02/27/2023</td>\n",
       "      <td>NaN</td>\n",
       "      <td>(null)</td>\n",
       "      <td>NaN</td>\n",
       "      <td>(null)</td>\n",
       "      <td>PL 2224000</td>\n",
       "      <td>F</td>\n",
       "      <td>Q</td>\n",
       "      <td>113</td>\n",
       "      <td>0</td>\n",
       "      <td>25-44</td>\n",
       "      <td>M</td>\n",
       "      <td>BLACK</td>\n",
       "      <td>1039225</td>\n",
       "      <td>181937</td>\n",
       "      <td>40.665881</td>\n",
       "      <td>-73.801837</td>\n",
       "      <td>POINT (-73.80183654 40.66588105)</td>\n",
       "    </tr>\n",
       "    <tr>\n",
       "      <th>4</th>\n",
       "      <td>261516485</td>\n",
       "      <td>01/07/2023</td>\n",
       "      <td>397.0</td>\n",
       "      <td>ROBBERY,OPEN AREA UNCLASSIFIED</td>\n",
       "      <td>105.0</td>\n",
       "      <td>ROBBERY</td>\n",
       "      <td>PL 1601001</td>\n",
       "      <td>F</td>\n",
       "      <td>M</td>\n",
       "      <td>18</td>\n",
       "      <td>0</td>\n",
       "      <td>&lt;18</td>\n",
       "      <td>M</td>\n",
       "      <td>BLACK</td>\n",
       "      <td>988210</td>\n",
       "      <td>218129</td>\n",
       "      <td>40.765390</td>\n",
       "      <td>-73.985702</td>\n",
       "      <td>POINT (-73.985702 40.76539)</td>\n",
       "    </tr>\n",
       "  </tbody>\n",
       "</table>\n",
       "</div>"
      ],
      "text/plain": [
       "   ARREST_KEY ARREST_DATE  PD_CD                         PD_DESC  KY_CD  \\\n",
       "0   263187871  02/07/2023  105.0               STRANGULATION 1ST  106.0   \n",
       "1   261368273  01/04/2023    NaN                          (null)    NaN   \n",
       "2   261667175  01/10/2023  101.0                       ASSAULT 3  344.0   \n",
       "3   264298625  02/27/2023    NaN                          (null)    NaN   \n",
       "4   261516485  01/07/2023  397.0  ROBBERY,OPEN AREA UNCLASSIFIED  105.0   \n",
       "\n",
       "                      OFNS_DESC    LAW_CODE LAW_CAT_CD ARREST_BORO  \\\n",
       "0                FELONY ASSAULT  PL 1211200          F           S   \n",
       "1                        (null)  RPA0076801          M           M   \n",
       "2  ASSAULT 3 & RELATED OFFENSES  PL 1200001          M           B   \n",
       "3                        (null)  PL 2224000          F           Q   \n",
       "4                       ROBBERY  PL 1601001          F           M   \n",
       "\n",
       "   ARREST_PRECINCT  JURISDICTION_CODE AGE_GROUP PERP_SEX       PERP_RACE  \\\n",
       "0              120                  0     25-44        M           BLACK   \n",
       "1               34                  0     25-44        F           BLACK   \n",
       "2               42                  0     18-24        F  WHITE HISPANIC   \n",
       "3              113                  0     25-44        M           BLACK   \n",
       "4               18                  0       <18        M           BLACK   \n",
       "\n",
       "   X_COORD_CD  Y_COORD_CD   Latitude  Longitude  \\\n",
       "0      951637      171141  40.636362 -74.117505   \n",
       "1     1004287      251338  40.856519 -73.927564   \n",
       "2     1008754      238895  40.822355 -73.911463   \n",
       "3     1039225      181937  40.665881 -73.801837   \n",
       "4      988210      218129  40.765390 -73.985702   \n",
       "\n",
       "           New Georeferenced Column  \n",
       "0      POINT (-74.117505 40.636362)  \n",
       "1      POINT (-73.927564 40.856519)  \n",
       "2      POINT (-73.911463 40.822355)  \n",
       "3  POINT (-73.80183654 40.66588105)  \n",
       "4       POINT (-73.985702 40.76539)  "
      ]
     },
     "execution_count": 3,
     "metadata": {},
     "output_type": "execute_result"
    }
   ],
   "source": [
    "# Read the dataset\n",
    "df.head()"
   ]
  },
  {
   "cell_type": "code",
   "execution_count": 4,
   "metadata": {},
   "outputs": [
    {
     "data": {
      "text/html": [
       "<div>\n",
       "<style scoped>\n",
       "    .dataframe tbody tr th:only-of-type {\n",
       "        vertical-align: middle;\n",
       "    }\n",
       "\n",
       "    .dataframe tbody tr th {\n",
       "        vertical-align: top;\n",
       "    }\n",
       "\n",
       "    .dataframe thead th {\n",
       "        text-align: right;\n",
       "    }\n",
       "</style>\n",
       "<table border=\"1\" class=\"dataframe\">\n",
       "  <thead>\n",
       "    <tr style=\"text-align: right;\">\n",
       "      <th></th>\n",
       "      <th>ARREST_KEY</th>\n",
       "      <th>ARREST_DATE</th>\n",
       "      <th>PD_CD</th>\n",
       "      <th>PD_DESC</th>\n",
       "      <th>KY_CD</th>\n",
       "      <th>OFNS_DESC</th>\n",
       "      <th>LAW_CODE</th>\n",
       "      <th>LAW_CAT_CD</th>\n",
       "      <th>ARREST_BORO</th>\n",
       "      <th>ARREST_PRECINCT</th>\n",
       "      <th>JURISDICTION_CODE</th>\n",
       "      <th>AGE_GROUP</th>\n",
       "      <th>PERP_SEX</th>\n",
       "      <th>PERP_RACE</th>\n",
       "      <th>X_COORD_CD</th>\n",
       "      <th>Y_COORD_CD</th>\n",
       "      <th>Latitude</th>\n",
       "      <th>Longitude</th>\n",
       "      <th>New Georeferenced Column</th>\n",
       "    </tr>\n",
       "  </thead>\n",
       "  <tbody>\n",
       "    <tr>\n",
       "      <th>54571</th>\n",
       "      <td>265375648</td>\n",
       "      <td>03/20/2023</td>\n",
       "      <td>105.0</td>\n",
       "      <td>STRANGULATION 1ST</td>\n",
       "      <td>106.0</td>\n",
       "      <td>FELONY ASSAULT</td>\n",
       "      <td>PL 1211200</td>\n",
       "      <td>F</td>\n",
       "      <td>Q</td>\n",
       "      <td>113</td>\n",
       "      <td>0</td>\n",
       "      <td>25-44</td>\n",
       "      <td>M</td>\n",
       "      <td>ASIAN / PACIFIC ISLANDER</td>\n",
       "      <td>1046399</td>\n",
       "      <td>187126</td>\n",
       "      <td>40.680077</td>\n",
       "      <td>-73.775929</td>\n",
       "      <td>POINT (-73.775929 40.680077)</td>\n",
       "    </tr>\n",
       "    <tr>\n",
       "      <th>54572</th>\n",
       "      <td>265375611</td>\n",
       "      <td>03/20/2023</td>\n",
       "      <td>113.0</td>\n",
       "      <td>MENACING,UNCLASSIFIED</td>\n",
       "      <td>344.0</td>\n",
       "      <td>ASSAULT 3 &amp; RELATED OFFENSES</td>\n",
       "      <td>PL 1201401</td>\n",
       "      <td>M</td>\n",
       "      <td>M</td>\n",
       "      <td>33</td>\n",
       "      <td>0</td>\n",
       "      <td>18-24</td>\n",
       "      <td>M</td>\n",
       "      <td>WHITE HISPANIC</td>\n",
       "      <td>1000542</td>\n",
       "      <td>244360</td>\n",
       "      <td>40.837374</td>\n",
       "      <td>-73.941122</td>\n",
       "      <td>POINT (-73.941122 40.837374)</td>\n",
       "    </tr>\n",
       "    <tr>\n",
       "      <th>54573</th>\n",
       "      <td>265027445</td>\n",
       "      <td>03/13/2023</td>\n",
       "      <td>439.0</td>\n",
       "      <td>LARCENY,GRAND FROM OPEN AREAS, UNATTENDED</td>\n",
       "      <td>109.0</td>\n",
       "      <td>GRAND LARCENY</td>\n",
       "      <td>PL 1553001</td>\n",
       "      <td>F</td>\n",
       "      <td>Q</td>\n",
       "      <td>113</td>\n",
       "      <td>0</td>\n",
       "      <td>18-24</td>\n",
       "      <td>M</td>\n",
       "      <td>WHITE</td>\n",
       "      <td>1046399</td>\n",
       "      <td>187126</td>\n",
       "      <td>40.680077</td>\n",
       "      <td>-73.775929</td>\n",
       "      <td>POINT (-73.775929 40.680077)</td>\n",
       "    </tr>\n",
       "    <tr>\n",
       "      <th>54574</th>\n",
       "      <td>265277526</td>\n",
       "      <td>03/17/2023</td>\n",
       "      <td>101.0</td>\n",
       "      <td>ASSAULT 3</td>\n",
       "      <td>344.0</td>\n",
       "      <td>ASSAULT 3 &amp; RELATED OFFENSES</td>\n",
       "      <td>PL 1200001</td>\n",
       "      <td>M</td>\n",
       "      <td>Q</td>\n",
       "      <td>112</td>\n",
       "      <td>0</td>\n",
       "      <td>65+</td>\n",
       "      <td>M</td>\n",
       "      <td>ASIAN / PACIFIC ISLANDER</td>\n",
       "      <td>1024734</td>\n",
       "      <td>197982</td>\n",
       "      <td>40.709999</td>\n",
       "      <td>-73.853973</td>\n",
       "      <td>POINT (-73.853973 40.709999)</td>\n",
       "    </tr>\n",
       "    <tr>\n",
       "      <th>54575</th>\n",
       "      <td>265989716</td>\n",
       "      <td>03/31/2023</td>\n",
       "      <td>792.0</td>\n",
       "      <td>CRIMINAL POSSESSION WEAPON</td>\n",
       "      <td>118.0</td>\n",
       "      <td>DANGEROUS WEAPONS</td>\n",
       "      <td>PL 2650303</td>\n",
       "      <td>F</td>\n",
       "      <td>Q</td>\n",
       "      <td>114</td>\n",
       "      <td>11</td>\n",
       "      <td>25-44</td>\n",
       "      <td>M</td>\n",
       "      <td>WHITE</td>\n",
       "      <td>1006898</td>\n",
       "      <td>220358</td>\n",
       "      <td>40.771479</td>\n",
       "      <td>-73.918233</td>\n",
       "      <td>POINT (-73.91823339 40.7714791)</td>\n",
       "    </tr>\n",
       "  </tbody>\n",
       "</table>\n",
       "</div>"
      ],
      "text/plain": [
       "       ARREST_KEY ARREST_DATE  PD_CD  \\\n",
       "54571   265375648  03/20/2023  105.0   \n",
       "54572   265375611  03/20/2023  113.0   \n",
       "54573   265027445  03/13/2023  439.0   \n",
       "54574   265277526  03/17/2023  101.0   \n",
       "54575   265989716  03/31/2023  792.0   \n",
       "\n",
       "                                         PD_DESC  KY_CD  \\\n",
       "54571                          STRANGULATION 1ST  106.0   \n",
       "54572                      MENACING,UNCLASSIFIED  344.0   \n",
       "54573  LARCENY,GRAND FROM OPEN AREAS, UNATTENDED  109.0   \n",
       "54574                                  ASSAULT 3  344.0   \n",
       "54575                 CRIMINAL POSSESSION WEAPON  118.0   \n",
       "\n",
       "                          OFNS_DESC    LAW_CODE LAW_CAT_CD ARREST_BORO  \\\n",
       "54571                FELONY ASSAULT  PL 1211200          F           Q   \n",
       "54572  ASSAULT 3 & RELATED OFFENSES  PL 1201401          M           M   \n",
       "54573                 GRAND LARCENY  PL 1553001          F           Q   \n",
       "54574  ASSAULT 3 & RELATED OFFENSES  PL 1200001          M           Q   \n",
       "54575             DANGEROUS WEAPONS  PL 2650303          F           Q   \n",
       "\n",
       "       ARREST_PRECINCT  JURISDICTION_CODE AGE_GROUP PERP_SEX  \\\n",
       "54571              113                  0     25-44        M   \n",
       "54572               33                  0     18-24        M   \n",
       "54573              113                  0     18-24        M   \n",
       "54574              112                  0       65+        M   \n",
       "54575              114                 11     25-44        M   \n",
       "\n",
       "                      PERP_RACE  X_COORD_CD  Y_COORD_CD   Latitude  Longitude  \\\n",
       "54571  ASIAN / PACIFIC ISLANDER     1046399      187126  40.680077 -73.775929   \n",
       "54572            WHITE HISPANIC     1000542      244360  40.837374 -73.941122   \n",
       "54573                     WHITE     1046399      187126  40.680077 -73.775929   \n",
       "54574  ASIAN / PACIFIC ISLANDER     1024734      197982  40.709999 -73.853973   \n",
       "54575                     WHITE     1006898      220358  40.771479 -73.918233   \n",
       "\n",
       "              New Georeferenced Column  \n",
       "54571     POINT (-73.775929 40.680077)  \n",
       "54572     POINT (-73.941122 40.837374)  \n",
       "54573     POINT (-73.775929 40.680077)  \n",
       "54574     POINT (-73.853973 40.709999)  \n",
       "54575  POINT (-73.91823339 40.7714791)  "
      ]
     },
     "execution_count": 4,
     "metadata": {},
     "output_type": "execute_result"
    }
   ],
   "source": [
    "df.tail()"
   ]
  },
  {
   "cell_type": "code",
   "execution_count": 5,
   "metadata": {},
   "outputs": [
    {
     "data": {
      "text/plain": [
       "Index(['ARREST_KEY', 'ARREST_DATE', 'PD_CD', 'PD_DESC', 'KY_CD', 'OFNS_DESC',\n",
       "       'LAW_CODE', 'LAW_CAT_CD', 'ARREST_BORO', 'ARREST_PRECINCT',\n",
       "       'JURISDICTION_CODE', 'AGE_GROUP', 'PERP_SEX', 'PERP_RACE', 'X_COORD_CD',\n",
       "       'Y_COORD_CD', 'Latitude', 'Longitude', 'New Georeferenced Column'],\n",
       "      dtype='object')"
      ]
     },
     "execution_count": 5,
     "metadata": {},
     "output_type": "execute_result"
    }
   ],
   "source": [
    "# Check all available columns\n",
    "df.columns"
   ]
  },
  {
   "cell_type": "code",
   "execution_count": 6,
   "metadata": {},
   "outputs": [],
   "source": [
    "# Columns and their description for reference\n",
    "# ARREST_KEY: Randomly generated persistent ID for each arrest\n",
    "# ARREST_DATE: Exact date of arrest for the reported event\n",
    "# PD_CD:  Three digit internal classification code (more granular than key code)\n",
    "# PD_DESC: Description of internal classification corresponding with PD code (more granular than offense description)\n",
    "# KY_CD: Three digit internal classification code (more general category than PD Code)\n",
    "# OFNS_DESC: Description of internal classification with KY code (more general category than PD Description)\n",
    "# LAW_CODE: Law code charges corresponding to NYS Penal law, VTL and other various local laws\n",
    "# LAW_CAT_CD: Level of offense: felony, misdemeanor, violation\n",
    "# ARREST_PRECINCT: Precinct where the arrest occured\n",
    "# JURISDICTION_CODE: Jurisdiction responsible for arrest. Jurisdiction codes 0(patrol),1(Transit) and 2(Housing) represents NYPD\n",
    "# whilst codes 3 and more represnt non NYPD jurisdictions\n",
    "# AGE_GROUP:Perpetratots age within a category\n",
    "# PERP_SEX:Perpetrators age description\n",
    "# PERP_RACE:Perpetrators race description\n",
    "# X_COORD_CD:Midblock X-coordinate for New York State Plane Coordinate System, Long Island Zone, NAD 83, units feet (FIPS 3104)\n",
    "# Y_COORD_CD:Midblock Y-coordinate for New York State Plane Coordinate System, Long Island Zone, NAD 83, units feet (FIPS 3104)\n",
    "# Latitude:Latitude coordinate for Global Coordinate System, WGS 1984, decimal degrees (EPSG 4326)\n",
    "# Longitude:Longitude coordinate for Global Coordinate System, WGS 1984, decimal degrees (EPSG 4326)\n",
    "# geocoded_column: \n"
   ]
  },
  {
   "cell_type": "code",
   "execution_count": 7,
   "metadata": {},
   "outputs": [
    {
     "data": {
      "text/plain": [
       "0"
      ]
     },
     "execution_count": 7,
     "metadata": {},
     "output_type": "execute_result"
    }
   ],
   "source": [
    "# check for nulls\n",
    "df['ARREST_KEY'].isnull().sum()"
   ]
  },
  {
   "cell_type": "code",
   "execution_count": 8,
   "metadata": {},
   "outputs": [
    {
     "data": {
      "text/plain": [
       "0"
      ]
     },
     "execution_count": 8,
     "metadata": {},
     "output_type": "execute_result"
    }
   ],
   "source": [
    "df['ARREST_DATE'].isnull().sum()"
   ]
  },
  {
   "cell_type": "code",
   "execution_count": 9,
   "metadata": {},
   "outputs": [
    {
     "data": {
      "text/plain": [
       "251"
      ]
     },
     "execution_count": 9,
     "metadata": {},
     "output_type": "execute_result"
    }
   ],
   "source": [
    "# null values are present in PD_CD column\n",
    "df['PD_CD'].isnull().sum()"
   ]
  },
  {
   "cell_type": "code",
   "execution_count": 10,
   "metadata": {},
   "outputs": [
    {
     "data": {
      "text/plain": [
       "0"
      ]
     },
     "execution_count": 10,
     "metadata": {},
     "output_type": "execute_result"
    }
   ],
   "source": [
    "df['PD_DESC'].isnull().sum()"
   ]
  },
  {
   "cell_type": "code",
   "execution_count": 11,
   "metadata": {},
   "outputs": [
    {
     "data": {
      "text/plain": [
       "251"
      ]
     },
     "execution_count": 11,
     "metadata": {},
     "output_type": "execute_result"
    }
   ],
   "source": [
    "# null values are present in KY_CD column\n",
    "df['KY_CD'].isnull().sum()"
   ]
  },
  {
   "cell_type": "code",
   "execution_count": 12,
   "metadata": {},
   "outputs": [
    {
     "data": {
      "text/plain": [
       "0"
      ]
     },
     "execution_count": 12,
     "metadata": {},
     "output_type": "execute_result"
    }
   ],
   "source": [
    "df['OFNS_DESC'].isnull().sum()"
   ]
  },
  {
   "cell_type": "code",
   "execution_count": 13,
   "metadata": {},
   "outputs": [
    {
     "data": {
      "text/plain": [
       "0"
      ]
     },
     "execution_count": 13,
     "metadata": {},
     "output_type": "execute_result"
    }
   ],
   "source": [
    "df['LAW_CODE'].isnull().sum()"
   ]
  },
  {
   "cell_type": "code",
   "execution_count": 14,
   "metadata": {},
   "outputs": [
    {
     "data": {
      "text/plain": [
       "0"
      ]
     },
     "execution_count": 14,
     "metadata": {},
     "output_type": "execute_result"
    }
   ],
   "source": [
    "df['ARREST_BORO'].isnull().sum()"
   ]
  },
  {
   "cell_type": "code",
   "execution_count": 15,
   "metadata": {},
   "outputs": [
    {
     "data": {
      "text/plain": [
       "420"
      ]
     },
     "execution_count": 15,
     "metadata": {},
     "output_type": "execute_result"
    }
   ],
   "source": [
    "# null values are present in LAW_CAT_CD column\n",
    "df['LAW_CAT_CD'].isnull().sum()"
   ]
  },
  {
   "cell_type": "code",
   "execution_count": 16,
   "metadata": {},
   "outputs": [
    {
     "data": {
      "text/plain": [
       "array(['F', 'M', '9', nan, 'V', 'I'], dtype=object)"
      ]
     },
     "execution_count": 16,
     "metadata": {},
     "output_type": "execute_result"
    }
   ],
   "source": [
    "df['LAW_CAT_CD'].unique()"
   ]
  },
  {
   "cell_type": "code",
   "execution_count": 17,
   "metadata": {},
   "outputs": [
    {
     "data": {
      "text/plain": [
       "0"
      ]
     },
     "execution_count": 17,
     "metadata": {},
     "output_type": "execute_result"
    }
   ],
   "source": [
    "df['ARREST_PRECINCT'].isnull().sum()"
   ]
  },
  {
   "cell_type": "code",
   "execution_count": 18,
   "metadata": {},
   "outputs": [
    {
     "data": {
      "text/plain": [
       "0"
      ]
     },
     "execution_count": 18,
     "metadata": {},
     "output_type": "execute_result"
    }
   ],
   "source": [
    "df['JURISDICTION_CODE'].isnull().sum()"
   ]
  },
  {
   "cell_type": "code",
   "execution_count": 19,
   "metadata": {},
   "outputs": [
    {
     "data": {
      "text/plain": [
       "0"
      ]
     },
     "execution_count": 19,
     "metadata": {},
     "output_type": "execute_result"
    }
   ],
   "source": [
    "df['AGE_GROUP'].isnull().sum()"
   ]
  },
  {
   "cell_type": "code",
   "execution_count": 20,
   "metadata": {},
   "outputs": [
    {
     "data": {
      "text/plain": [
       "0"
      ]
     },
     "execution_count": 20,
     "metadata": {},
     "output_type": "execute_result"
    }
   ],
   "source": [
    "df['PERP_SEX'].isnull().sum()"
   ]
  },
  {
   "cell_type": "code",
   "execution_count": 21,
   "metadata": {},
   "outputs": [
    {
     "data": {
      "text/plain": [
       "0"
      ]
     },
     "execution_count": 21,
     "metadata": {},
     "output_type": "execute_result"
    }
   ],
   "source": [
    "df['PERP_RACE'].isnull().sum()"
   ]
  },
  {
   "cell_type": "code",
   "execution_count": 22,
   "metadata": {},
   "outputs": [
    {
     "data": {
      "text/plain": [
       "0"
      ]
     },
     "execution_count": 22,
     "metadata": {},
     "output_type": "execute_result"
    }
   ],
   "source": [
    "df['X_COORD_CD'].isnull().sum()"
   ]
  },
  {
   "cell_type": "code",
   "execution_count": 23,
   "metadata": {},
   "outputs": [
    {
     "data": {
      "text/plain": [
       "0"
      ]
     },
     "execution_count": 23,
     "metadata": {},
     "output_type": "execute_result"
    }
   ],
   "source": [
    "df['Y_COORD_CD'].isnull().sum()"
   ]
  },
  {
   "cell_type": "code",
   "execution_count": 24,
   "metadata": {},
   "outputs": [
    {
     "data": {
      "text/plain": [
       "0"
      ]
     },
     "execution_count": 24,
     "metadata": {},
     "output_type": "execute_result"
    }
   ],
   "source": [
    "df['Latitude'].isnull().sum()"
   ]
  },
  {
   "cell_type": "code",
   "execution_count": 25,
   "metadata": {},
   "outputs": [
    {
     "data": {
      "text/plain": [
       "0"
      ]
     },
     "execution_count": 25,
     "metadata": {},
     "output_type": "execute_result"
    }
   ],
   "source": [
    "df['Longitude'].isnull().sum()"
   ]
  },
  {
   "cell_type": "code",
   "execution_count": 26,
   "metadata": {},
   "outputs": [],
   "source": [
    "# After analyzing all columns, the columns PD_CD,KY_CD and LAW_CAT_CD have null values. Dropping the standardized null values in\n",
    "# dataset\n",
    "\n",
    "df1 = df.dropna()"
   ]
  },
  {
   "cell_type": "code",
   "execution_count": 27,
   "metadata": {},
   "outputs": [
    {
     "data": {
      "text/html": [
       "<div>\n",
       "<style scoped>\n",
       "    .dataframe tbody tr th:only-of-type {\n",
       "        vertical-align: middle;\n",
       "    }\n",
       "\n",
       "    .dataframe tbody tr th {\n",
       "        vertical-align: top;\n",
       "    }\n",
       "\n",
       "    .dataframe thead th {\n",
       "        text-align: right;\n",
       "    }\n",
       "</style>\n",
       "<table border=\"1\" class=\"dataframe\">\n",
       "  <thead>\n",
       "    <tr style=\"text-align: right;\">\n",
       "      <th></th>\n",
       "      <th>ARREST_KEY</th>\n",
       "      <th>ARREST_DATE</th>\n",
       "      <th>PD_CD</th>\n",
       "      <th>PD_DESC</th>\n",
       "      <th>KY_CD</th>\n",
       "      <th>OFNS_DESC</th>\n",
       "      <th>LAW_CODE</th>\n",
       "      <th>LAW_CAT_CD</th>\n",
       "      <th>ARREST_BORO</th>\n",
       "      <th>ARREST_PRECINCT</th>\n",
       "      <th>JURISDICTION_CODE</th>\n",
       "      <th>AGE_GROUP</th>\n",
       "      <th>PERP_SEX</th>\n",
       "      <th>PERP_RACE</th>\n",
       "      <th>X_COORD_CD</th>\n",
       "      <th>Y_COORD_CD</th>\n",
       "      <th>Latitude</th>\n",
       "      <th>Longitude</th>\n",
       "      <th>New Georeferenced Column</th>\n",
       "    </tr>\n",
       "  </thead>\n",
       "  <tbody>\n",
       "    <tr>\n",
       "      <th>0</th>\n",
       "      <td>263187871</td>\n",
       "      <td>02/07/2023</td>\n",
       "      <td>105.0</td>\n",
       "      <td>STRANGULATION 1ST</td>\n",
       "      <td>106.0</td>\n",
       "      <td>FELONY ASSAULT</td>\n",
       "      <td>PL 1211200</td>\n",
       "      <td>F</td>\n",
       "      <td>S</td>\n",
       "      <td>120</td>\n",
       "      <td>0</td>\n",
       "      <td>25-44</td>\n",
       "      <td>M</td>\n",
       "      <td>BLACK</td>\n",
       "      <td>951637</td>\n",
       "      <td>171141</td>\n",
       "      <td>40.636362</td>\n",
       "      <td>-74.117505</td>\n",
       "      <td>POINT (-74.117505 40.636362)</td>\n",
       "    </tr>\n",
       "    <tr>\n",
       "      <th>2</th>\n",
       "      <td>261667175</td>\n",
       "      <td>01/10/2023</td>\n",
       "      <td>101.0</td>\n",
       "      <td>ASSAULT 3</td>\n",
       "      <td>344.0</td>\n",
       "      <td>ASSAULT 3 &amp; RELATED OFFENSES</td>\n",
       "      <td>PL 1200001</td>\n",
       "      <td>M</td>\n",
       "      <td>B</td>\n",
       "      <td>42</td>\n",
       "      <td>0</td>\n",
       "      <td>18-24</td>\n",
       "      <td>F</td>\n",
       "      <td>WHITE HISPANIC</td>\n",
       "      <td>1008754</td>\n",
       "      <td>238895</td>\n",
       "      <td>40.822355</td>\n",
       "      <td>-73.911463</td>\n",
       "      <td>POINT (-73.911463 40.822355)</td>\n",
       "    </tr>\n",
       "    <tr>\n",
       "      <th>4</th>\n",
       "      <td>261516485</td>\n",
       "      <td>01/07/2023</td>\n",
       "      <td>397.0</td>\n",
       "      <td>ROBBERY,OPEN AREA UNCLASSIFIED</td>\n",
       "      <td>105.0</td>\n",
       "      <td>ROBBERY</td>\n",
       "      <td>PL 1601001</td>\n",
       "      <td>F</td>\n",
       "      <td>M</td>\n",
       "      <td>18</td>\n",
       "      <td>0</td>\n",
       "      <td>&lt;18</td>\n",
       "      <td>M</td>\n",
       "      <td>BLACK</td>\n",
       "      <td>988210</td>\n",
       "      <td>218129</td>\n",
       "      <td>40.765390</td>\n",
       "      <td>-73.985702</td>\n",
       "      <td>POINT (-73.985702 40.76539)</td>\n",
       "    </tr>\n",
       "    <tr>\n",
       "      <th>5</th>\n",
       "      <td>261273897</td>\n",
       "      <td>01/03/2023</td>\n",
       "      <td>101.0</td>\n",
       "      <td>ASSAULT 3</td>\n",
       "      <td>344.0</td>\n",
       "      <td>ASSAULT 3 &amp; RELATED OFFENSES</td>\n",
       "      <td>PL 1200001</td>\n",
       "      <td>M</td>\n",
       "      <td>M</td>\n",
       "      <td>13</td>\n",
       "      <td>0</td>\n",
       "      <td>25-44</td>\n",
       "      <td>F</td>\n",
       "      <td>BLACK</td>\n",
       "      <td>989179</td>\n",
       "      <td>205835</td>\n",
       "      <td>40.731646</td>\n",
       "      <td>-73.982214</td>\n",
       "      <td>POINT (-73.982214 40.731646)</td>\n",
       "    </tr>\n",
       "    <tr>\n",
       "      <th>6</th>\n",
       "      <td>261487453</td>\n",
       "      <td>01/06/2023</td>\n",
       "      <td>244.0</td>\n",
       "      <td>BURGLARY,UNCLASSIFIED,UNKNOWN</td>\n",
       "      <td>107.0</td>\n",
       "      <td>BURGLARY</td>\n",
       "      <td>PL 1402000</td>\n",
       "      <td>F</td>\n",
       "      <td>Q</td>\n",
       "      <td>103</td>\n",
       "      <td>0</td>\n",
       "      <td>45-64</td>\n",
       "      <td>F</td>\n",
       "      <td>BLACK</td>\n",
       "      <td>1042249</td>\n",
       "      <td>193186</td>\n",
       "      <td>40.696739</td>\n",
       "      <td>-73.790838</td>\n",
       "      <td>POINT (-73.790838 40.696739)</td>\n",
       "    </tr>\n",
       "  </tbody>\n",
       "</table>\n",
       "</div>"
      ],
      "text/plain": [
       "   ARREST_KEY ARREST_DATE  PD_CD                         PD_DESC  KY_CD  \\\n",
       "0   263187871  02/07/2023  105.0               STRANGULATION 1ST  106.0   \n",
       "2   261667175  01/10/2023  101.0                       ASSAULT 3  344.0   \n",
       "4   261516485  01/07/2023  397.0  ROBBERY,OPEN AREA UNCLASSIFIED  105.0   \n",
       "5   261273897  01/03/2023  101.0                       ASSAULT 3  344.0   \n",
       "6   261487453  01/06/2023  244.0   BURGLARY,UNCLASSIFIED,UNKNOWN  107.0   \n",
       "\n",
       "                      OFNS_DESC    LAW_CODE LAW_CAT_CD ARREST_BORO  \\\n",
       "0                FELONY ASSAULT  PL 1211200          F           S   \n",
       "2  ASSAULT 3 & RELATED OFFENSES  PL 1200001          M           B   \n",
       "4                       ROBBERY  PL 1601001          F           M   \n",
       "5  ASSAULT 3 & RELATED OFFENSES  PL 1200001          M           M   \n",
       "6                      BURGLARY  PL 1402000          F           Q   \n",
       "\n",
       "   ARREST_PRECINCT  JURISDICTION_CODE AGE_GROUP PERP_SEX       PERP_RACE  \\\n",
       "0              120                  0     25-44        M           BLACK   \n",
       "2               42                  0     18-24        F  WHITE HISPANIC   \n",
       "4               18                  0       <18        M           BLACK   \n",
       "5               13                  0     25-44        F           BLACK   \n",
       "6              103                  0     45-64        F           BLACK   \n",
       "\n",
       "   X_COORD_CD  Y_COORD_CD   Latitude  Longitude      New Georeferenced Column  \n",
       "0      951637      171141  40.636362 -74.117505  POINT (-74.117505 40.636362)  \n",
       "2     1008754      238895  40.822355 -73.911463  POINT (-73.911463 40.822355)  \n",
       "4      988210      218129  40.765390 -73.985702   POINT (-73.985702 40.76539)  \n",
       "5      989179      205835  40.731646 -73.982214  POINT (-73.982214 40.731646)  \n",
       "6     1042249      193186  40.696739 -73.790838  POINT (-73.790838 40.696739)  "
      ]
     },
     "execution_count": 27,
     "metadata": {},
     "output_type": "execute_result"
    }
   ],
   "source": [
    "df1.head()"
   ]
  },
  {
   "cell_type": "code",
   "execution_count": 28,
   "metadata": {},
   "outputs": [
    {
     "data": {
      "text/html": [
       "<div>\n",
       "<style scoped>\n",
       "    .dataframe tbody tr th:only-of-type {\n",
       "        vertical-align: middle;\n",
       "    }\n",
       "\n",
       "    .dataframe tbody tr th {\n",
       "        vertical-align: top;\n",
       "    }\n",
       "\n",
       "    .dataframe thead th {\n",
       "        text-align: right;\n",
       "    }\n",
       "</style>\n",
       "<table border=\"1\" class=\"dataframe\">\n",
       "  <thead>\n",
       "    <tr style=\"text-align: right;\">\n",
       "      <th></th>\n",
       "      <th>ARREST_KEY</th>\n",
       "      <th>ARREST_DATE</th>\n",
       "      <th>PD_CD</th>\n",
       "      <th>PD_DESC</th>\n",
       "      <th>KY_CD</th>\n",
       "      <th>OFNS_DESC</th>\n",
       "      <th>LAW_CODE</th>\n",
       "      <th>LAW_CAT_CD</th>\n",
       "      <th>ARREST_BORO</th>\n",
       "      <th>ARREST_PRECINCT</th>\n",
       "      <th>JURISDICTION_CODE</th>\n",
       "      <th>AGE_GROUP</th>\n",
       "      <th>PERP_SEX</th>\n",
       "      <th>PERP_RACE</th>\n",
       "      <th>X_COORD_CD</th>\n",
       "      <th>Y_COORD_CD</th>\n",
       "      <th>Latitude</th>\n",
       "      <th>Longitude</th>\n",
       "      <th>New Georeferenced Column</th>\n",
       "    </tr>\n",
       "  </thead>\n",
       "  <tbody>\n",
       "    <tr>\n",
       "      <th>54571</th>\n",
       "      <td>265375648</td>\n",
       "      <td>03/20/2023</td>\n",
       "      <td>105.0</td>\n",
       "      <td>STRANGULATION 1ST</td>\n",
       "      <td>106.0</td>\n",
       "      <td>FELONY ASSAULT</td>\n",
       "      <td>PL 1211200</td>\n",
       "      <td>F</td>\n",
       "      <td>Q</td>\n",
       "      <td>113</td>\n",
       "      <td>0</td>\n",
       "      <td>25-44</td>\n",
       "      <td>M</td>\n",
       "      <td>ASIAN / PACIFIC ISLANDER</td>\n",
       "      <td>1046399</td>\n",
       "      <td>187126</td>\n",
       "      <td>40.680077</td>\n",
       "      <td>-73.775929</td>\n",
       "      <td>POINT (-73.775929 40.680077)</td>\n",
       "    </tr>\n",
       "    <tr>\n",
       "      <th>54572</th>\n",
       "      <td>265375611</td>\n",
       "      <td>03/20/2023</td>\n",
       "      <td>113.0</td>\n",
       "      <td>MENACING,UNCLASSIFIED</td>\n",
       "      <td>344.0</td>\n",
       "      <td>ASSAULT 3 &amp; RELATED OFFENSES</td>\n",
       "      <td>PL 1201401</td>\n",
       "      <td>M</td>\n",
       "      <td>M</td>\n",
       "      <td>33</td>\n",
       "      <td>0</td>\n",
       "      <td>18-24</td>\n",
       "      <td>M</td>\n",
       "      <td>WHITE HISPANIC</td>\n",
       "      <td>1000542</td>\n",
       "      <td>244360</td>\n",
       "      <td>40.837374</td>\n",
       "      <td>-73.941122</td>\n",
       "      <td>POINT (-73.941122 40.837374)</td>\n",
       "    </tr>\n",
       "    <tr>\n",
       "      <th>54573</th>\n",
       "      <td>265027445</td>\n",
       "      <td>03/13/2023</td>\n",
       "      <td>439.0</td>\n",
       "      <td>LARCENY,GRAND FROM OPEN AREAS, UNATTENDED</td>\n",
       "      <td>109.0</td>\n",
       "      <td>GRAND LARCENY</td>\n",
       "      <td>PL 1553001</td>\n",
       "      <td>F</td>\n",
       "      <td>Q</td>\n",
       "      <td>113</td>\n",
       "      <td>0</td>\n",
       "      <td>18-24</td>\n",
       "      <td>M</td>\n",
       "      <td>WHITE</td>\n",
       "      <td>1046399</td>\n",
       "      <td>187126</td>\n",
       "      <td>40.680077</td>\n",
       "      <td>-73.775929</td>\n",
       "      <td>POINT (-73.775929 40.680077)</td>\n",
       "    </tr>\n",
       "    <tr>\n",
       "      <th>54574</th>\n",
       "      <td>265277526</td>\n",
       "      <td>03/17/2023</td>\n",
       "      <td>101.0</td>\n",
       "      <td>ASSAULT 3</td>\n",
       "      <td>344.0</td>\n",
       "      <td>ASSAULT 3 &amp; RELATED OFFENSES</td>\n",
       "      <td>PL 1200001</td>\n",
       "      <td>M</td>\n",
       "      <td>Q</td>\n",
       "      <td>112</td>\n",
       "      <td>0</td>\n",
       "      <td>65+</td>\n",
       "      <td>M</td>\n",
       "      <td>ASIAN / PACIFIC ISLANDER</td>\n",
       "      <td>1024734</td>\n",
       "      <td>197982</td>\n",
       "      <td>40.709999</td>\n",
       "      <td>-73.853973</td>\n",
       "      <td>POINT (-73.853973 40.709999)</td>\n",
       "    </tr>\n",
       "    <tr>\n",
       "      <th>54575</th>\n",
       "      <td>265989716</td>\n",
       "      <td>03/31/2023</td>\n",
       "      <td>792.0</td>\n",
       "      <td>CRIMINAL POSSESSION WEAPON</td>\n",
       "      <td>118.0</td>\n",
       "      <td>DANGEROUS WEAPONS</td>\n",
       "      <td>PL 2650303</td>\n",
       "      <td>F</td>\n",
       "      <td>Q</td>\n",
       "      <td>114</td>\n",
       "      <td>11</td>\n",
       "      <td>25-44</td>\n",
       "      <td>M</td>\n",
       "      <td>WHITE</td>\n",
       "      <td>1006898</td>\n",
       "      <td>220358</td>\n",
       "      <td>40.771479</td>\n",
       "      <td>-73.918233</td>\n",
       "      <td>POINT (-73.91823339 40.7714791)</td>\n",
       "    </tr>\n",
       "  </tbody>\n",
       "</table>\n",
       "</div>"
      ],
      "text/plain": [
       "       ARREST_KEY ARREST_DATE  PD_CD  \\\n",
       "54571   265375648  03/20/2023  105.0   \n",
       "54572   265375611  03/20/2023  113.0   \n",
       "54573   265027445  03/13/2023  439.0   \n",
       "54574   265277526  03/17/2023  101.0   \n",
       "54575   265989716  03/31/2023  792.0   \n",
       "\n",
       "                                         PD_DESC  KY_CD  \\\n",
       "54571                          STRANGULATION 1ST  106.0   \n",
       "54572                      MENACING,UNCLASSIFIED  344.0   \n",
       "54573  LARCENY,GRAND FROM OPEN AREAS, UNATTENDED  109.0   \n",
       "54574                                  ASSAULT 3  344.0   \n",
       "54575                 CRIMINAL POSSESSION WEAPON  118.0   \n",
       "\n",
       "                          OFNS_DESC    LAW_CODE LAW_CAT_CD ARREST_BORO  \\\n",
       "54571                FELONY ASSAULT  PL 1211200          F           Q   \n",
       "54572  ASSAULT 3 & RELATED OFFENSES  PL 1201401          M           M   \n",
       "54573                 GRAND LARCENY  PL 1553001          F           Q   \n",
       "54574  ASSAULT 3 & RELATED OFFENSES  PL 1200001          M           Q   \n",
       "54575             DANGEROUS WEAPONS  PL 2650303          F           Q   \n",
       "\n",
       "       ARREST_PRECINCT  JURISDICTION_CODE AGE_GROUP PERP_SEX  \\\n",
       "54571              113                  0     25-44        M   \n",
       "54572               33                  0     18-24        M   \n",
       "54573              113                  0     18-24        M   \n",
       "54574              112                  0       65+        M   \n",
       "54575              114                 11     25-44        M   \n",
       "\n",
       "                      PERP_RACE  X_COORD_CD  Y_COORD_CD   Latitude  Longitude  \\\n",
       "54571  ASIAN / PACIFIC ISLANDER     1046399      187126  40.680077 -73.775929   \n",
       "54572            WHITE HISPANIC     1000542      244360  40.837374 -73.941122   \n",
       "54573                     WHITE     1046399      187126  40.680077 -73.775929   \n",
       "54574  ASIAN / PACIFIC ISLANDER     1024734      197982  40.709999 -73.853973   \n",
       "54575                     WHITE     1006898      220358  40.771479 -73.918233   \n",
       "\n",
       "              New Georeferenced Column  \n",
       "54571     POINT (-73.775929 40.680077)  \n",
       "54572     POINT (-73.941122 40.837374)  \n",
       "54573     POINT (-73.775929 40.680077)  \n",
       "54574     POINT (-73.853973 40.709999)  \n",
       "54575  POINT (-73.91823339 40.7714791)  "
      ]
     },
     "execution_count": 28,
     "metadata": {},
     "output_type": "execute_result"
    }
   ],
   "source": [
    "df1.tail()"
   ]
  },
  {
   "cell_type": "code",
   "execution_count": 29,
   "metadata": {},
   "outputs": [
    {
     "data": {
      "text/plain": [
       "array(['S', 'B', 'M', 'Q', 'K'], dtype=object)"
      ]
     },
     "execution_count": 29,
     "metadata": {},
     "output_type": "execute_result"
    }
   ],
   "source": [
    "# Check unique Borough values\n",
    "\n",
    "df1['ARREST_BORO'].unique()"
   ]
  },
  {
   "cell_type": "code",
   "execution_count": 30,
   "metadata": {},
   "outputs": [
    {
     "name": "stderr",
     "output_type": "stream",
     "text": [
      "<ipython-input-30-e976c1056dff>:3: SettingWithCopyWarning: \n",
      "A value is trying to be set on a copy of a slice from a DataFrame.\n",
      "Try using .loc[row_indexer,col_indexer] = value instead\n",
      "\n",
      "See the caveats in the documentation: https://pandas.pydata.org/pandas-docs/stable/user_guide/indexing.html#returning-a-view-versus-a-copy\n",
      "  df1['ARREST_BORO'] =  df1['ARREST_BORO'].str.replace('Q','Queens')\n"
     ]
    }
   ],
   "source": [
    "# Replace ARREST_BORO with non abbreviated text\n",
    "\n",
    "df1['ARREST_BORO'] =  df1['ARREST_BORO'].str.replace('Q','Queens')"
   ]
  },
  {
   "cell_type": "code",
   "execution_count": 31,
   "metadata": {},
   "outputs": [
    {
     "data": {
      "text/html": [
       "<div>\n",
       "<style scoped>\n",
       "    .dataframe tbody tr th:only-of-type {\n",
       "        vertical-align: middle;\n",
       "    }\n",
       "\n",
       "    .dataframe tbody tr th {\n",
       "        vertical-align: top;\n",
       "    }\n",
       "\n",
       "    .dataframe thead th {\n",
       "        text-align: right;\n",
       "    }\n",
       "</style>\n",
       "<table border=\"1\" class=\"dataframe\">\n",
       "  <thead>\n",
       "    <tr style=\"text-align: right;\">\n",
       "      <th></th>\n",
       "      <th>ARREST_KEY</th>\n",
       "      <th>ARREST_DATE</th>\n",
       "      <th>PD_CD</th>\n",
       "      <th>PD_DESC</th>\n",
       "      <th>KY_CD</th>\n",
       "      <th>OFNS_DESC</th>\n",
       "      <th>LAW_CODE</th>\n",
       "      <th>LAW_CAT_CD</th>\n",
       "      <th>ARREST_BORO</th>\n",
       "      <th>ARREST_PRECINCT</th>\n",
       "      <th>JURISDICTION_CODE</th>\n",
       "      <th>AGE_GROUP</th>\n",
       "      <th>PERP_SEX</th>\n",
       "      <th>PERP_RACE</th>\n",
       "      <th>X_COORD_CD</th>\n",
       "      <th>Y_COORD_CD</th>\n",
       "      <th>Latitude</th>\n",
       "      <th>Longitude</th>\n",
       "      <th>New Georeferenced Column</th>\n",
       "    </tr>\n",
       "  </thead>\n",
       "  <tbody>\n",
       "    <tr>\n",
       "      <th>0</th>\n",
       "      <td>263187871</td>\n",
       "      <td>02/07/2023</td>\n",
       "      <td>105.0</td>\n",
       "      <td>STRANGULATION 1ST</td>\n",
       "      <td>106.0</td>\n",
       "      <td>FELONY ASSAULT</td>\n",
       "      <td>PL 1211200</td>\n",
       "      <td>F</td>\n",
       "      <td>S</td>\n",
       "      <td>120</td>\n",
       "      <td>0</td>\n",
       "      <td>25-44</td>\n",
       "      <td>M</td>\n",
       "      <td>BLACK</td>\n",
       "      <td>951637</td>\n",
       "      <td>171141</td>\n",
       "      <td>40.636362</td>\n",
       "      <td>-74.117505</td>\n",
       "      <td>POINT (-74.117505 40.636362)</td>\n",
       "    </tr>\n",
       "    <tr>\n",
       "      <th>2</th>\n",
       "      <td>261667175</td>\n",
       "      <td>01/10/2023</td>\n",
       "      <td>101.0</td>\n",
       "      <td>ASSAULT 3</td>\n",
       "      <td>344.0</td>\n",
       "      <td>ASSAULT 3 &amp; RELATED OFFENSES</td>\n",
       "      <td>PL 1200001</td>\n",
       "      <td>M</td>\n",
       "      <td>B</td>\n",
       "      <td>42</td>\n",
       "      <td>0</td>\n",
       "      <td>18-24</td>\n",
       "      <td>F</td>\n",
       "      <td>WHITE HISPANIC</td>\n",
       "      <td>1008754</td>\n",
       "      <td>238895</td>\n",
       "      <td>40.822355</td>\n",
       "      <td>-73.911463</td>\n",
       "      <td>POINT (-73.911463 40.822355)</td>\n",
       "    </tr>\n",
       "    <tr>\n",
       "      <th>4</th>\n",
       "      <td>261516485</td>\n",
       "      <td>01/07/2023</td>\n",
       "      <td>397.0</td>\n",
       "      <td>ROBBERY,OPEN AREA UNCLASSIFIED</td>\n",
       "      <td>105.0</td>\n",
       "      <td>ROBBERY</td>\n",
       "      <td>PL 1601001</td>\n",
       "      <td>F</td>\n",
       "      <td>M</td>\n",
       "      <td>18</td>\n",
       "      <td>0</td>\n",
       "      <td>&lt;18</td>\n",
       "      <td>M</td>\n",
       "      <td>BLACK</td>\n",
       "      <td>988210</td>\n",
       "      <td>218129</td>\n",
       "      <td>40.765390</td>\n",
       "      <td>-73.985702</td>\n",
       "      <td>POINT (-73.985702 40.76539)</td>\n",
       "    </tr>\n",
       "    <tr>\n",
       "      <th>5</th>\n",
       "      <td>261273897</td>\n",
       "      <td>01/03/2023</td>\n",
       "      <td>101.0</td>\n",
       "      <td>ASSAULT 3</td>\n",
       "      <td>344.0</td>\n",
       "      <td>ASSAULT 3 &amp; RELATED OFFENSES</td>\n",
       "      <td>PL 1200001</td>\n",
       "      <td>M</td>\n",
       "      <td>M</td>\n",
       "      <td>13</td>\n",
       "      <td>0</td>\n",
       "      <td>25-44</td>\n",
       "      <td>F</td>\n",
       "      <td>BLACK</td>\n",
       "      <td>989179</td>\n",
       "      <td>205835</td>\n",
       "      <td>40.731646</td>\n",
       "      <td>-73.982214</td>\n",
       "      <td>POINT (-73.982214 40.731646)</td>\n",
       "    </tr>\n",
       "    <tr>\n",
       "      <th>6</th>\n",
       "      <td>261487453</td>\n",
       "      <td>01/06/2023</td>\n",
       "      <td>244.0</td>\n",
       "      <td>BURGLARY,UNCLASSIFIED,UNKNOWN</td>\n",
       "      <td>107.0</td>\n",
       "      <td>BURGLARY</td>\n",
       "      <td>PL 1402000</td>\n",
       "      <td>F</td>\n",
       "      <td>Queens</td>\n",
       "      <td>103</td>\n",
       "      <td>0</td>\n",
       "      <td>45-64</td>\n",
       "      <td>F</td>\n",
       "      <td>BLACK</td>\n",
       "      <td>1042249</td>\n",
       "      <td>193186</td>\n",
       "      <td>40.696739</td>\n",
       "      <td>-73.790838</td>\n",
       "      <td>POINT (-73.790838 40.696739)</td>\n",
       "    </tr>\n",
       "  </tbody>\n",
       "</table>\n",
       "</div>"
      ],
      "text/plain": [
       "   ARREST_KEY ARREST_DATE  PD_CD                         PD_DESC  KY_CD  \\\n",
       "0   263187871  02/07/2023  105.0               STRANGULATION 1ST  106.0   \n",
       "2   261667175  01/10/2023  101.0                       ASSAULT 3  344.0   \n",
       "4   261516485  01/07/2023  397.0  ROBBERY,OPEN AREA UNCLASSIFIED  105.0   \n",
       "5   261273897  01/03/2023  101.0                       ASSAULT 3  344.0   \n",
       "6   261487453  01/06/2023  244.0   BURGLARY,UNCLASSIFIED,UNKNOWN  107.0   \n",
       "\n",
       "                      OFNS_DESC    LAW_CODE LAW_CAT_CD ARREST_BORO  \\\n",
       "0                FELONY ASSAULT  PL 1211200          F           S   \n",
       "2  ASSAULT 3 & RELATED OFFENSES  PL 1200001          M           B   \n",
       "4                       ROBBERY  PL 1601001          F           M   \n",
       "5  ASSAULT 3 & RELATED OFFENSES  PL 1200001          M           M   \n",
       "6                      BURGLARY  PL 1402000          F      Queens   \n",
       "\n",
       "   ARREST_PRECINCT  JURISDICTION_CODE AGE_GROUP PERP_SEX       PERP_RACE  \\\n",
       "0              120                  0     25-44        M           BLACK   \n",
       "2               42                  0     18-24        F  WHITE HISPANIC   \n",
       "4               18                  0       <18        M           BLACK   \n",
       "5               13                  0     25-44        F           BLACK   \n",
       "6              103                  0     45-64        F           BLACK   \n",
       "\n",
       "   X_COORD_CD  Y_COORD_CD   Latitude  Longitude      New Georeferenced Column  \n",
       "0      951637      171141  40.636362 -74.117505  POINT (-74.117505 40.636362)  \n",
       "2     1008754      238895  40.822355 -73.911463  POINT (-73.911463 40.822355)  \n",
       "4      988210      218129  40.765390 -73.985702   POINT (-73.985702 40.76539)  \n",
       "5      989179      205835  40.731646 -73.982214  POINT (-73.982214 40.731646)  \n",
       "6     1042249      193186  40.696739 -73.790838  POINT (-73.790838 40.696739)  "
      ]
     },
     "execution_count": 31,
     "metadata": {},
     "output_type": "execute_result"
    }
   ],
   "source": [
    "df1.head()"
   ]
  },
  {
   "cell_type": "code",
   "execution_count": 32,
   "metadata": {},
   "outputs": [
    {
     "name": "stderr",
     "output_type": "stream",
     "text": [
      "C:\\Anaconda3\\lib\\site-packages\\pandas\\core\\indexing.py:1765: SettingWithCopyWarning: \n",
      "A value is trying to be set on a copy of a slice from a DataFrame.\n",
      "Try using .loc[row_indexer,col_indexer] = value instead\n",
      "\n",
      "See the caveats in the documentation: https://pandas.pydata.org/pandas-docs/stable/user_guide/indexing.html#returning-a-view-versus-a-copy\n",
      "  isetter(loc, value)\n"
     ]
    }
   ],
   "source": [
    "# Replace with different method, using loc\n",
    "\n",
    "df1.loc[df1['ARREST_BORO'] == 'S','ARREST_BORO'] = 'Staten Island'\n",
    "df1.loc[df1['ARREST_BORO'] == 'M', 'ARREST_BORO'] = 'Manhattan'\n",
    "df1.loc[df1['ARREST_BORO'] == 'K', 'ARREST_BORO'] = 'Brooklyn'\n",
    "df1.loc[df1['ARREST_BORO'] == 'B','ARREST_BORO'] = 'Bronx'\n"
   ]
  },
  {
   "cell_type": "code",
   "execution_count": 33,
   "metadata": {},
   "outputs": [
    {
     "data": {
      "text/html": [
       "<div>\n",
       "<style scoped>\n",
       "    .dataframe tbody tr th:only-of-type {\n",
       "        vertical-align: middle;\n",
       "    }\n",
       "\n",
       "    .dataframe tbody tr th {\n",
       "        vertical-align: top;\n",
       "    }\n",
       "\n",
       "    .dataframe thead th {\n",
       "        text-align: right;\n",
       "    }\n",
       "</style>\n",
       "<table border=\"1\" class=\"dataframe\">\n",
       "  <thead>\n",
       "    <tr style=\"text-align: right;\">\n",
       "      <th></th>\n",
       "      <th>ARREST_KEY</th>\n",
       "      <th>ARREST_DATE</th>\n",
       "      <th>PD_CD</th>\n",
       "      <th>PD_DESC</th>\n",
       "      <th>KY_CD</th>\n",
       "      <th>OFNS_DESC</th>\n",
       "      <th>LAW_CODE</th>\n",
       "      <th>LAW_CAT_CD</th>\n",
       "      <th>ARREST_BORO</th>\n",
       "      <th>ARREST_PRECINCT</th>\n",
       "      <th>JURISDICTION_CODE</th>\n",
       "      <th>AGE_GROUP</th>\n",
       "      <th>PERP_SEX</th>\n",
       "      <th>PERP_RACE</th>\n",
       "      <th>X_COORD_CD</th>\n",
       "      <th>Y_COORD_CD</th>\n",
       "      <th>Latitude</th>\n",
       "      <th>Longitude</th>\n",
       "      <th>New Georeferenced Column</th>\n",
       "    </tr>\n",
       "  </thead>\n",
       "  <tbody>\n",
       "    <tr>\n",
       "      <th>0</th>\n",
       "      <td>263187871</td>\n",
       "      <td>02/07/2023</td>\n",
       "      <td>105.0</td>\n",
       "      <td>STRANGULATION 1ST</td>\n",
       "      <td>106.0</td>\n",
       "      <td>FELONY ASSAULT</td>\n",
       "      <td>PL 1211200</td>\n",
       "      <td>F</td>\n",
       "      <td>Staten Island</td>\n",
       "      <td>120</td>\n",
       "      <td>0</td>\n",
       "      <td>25-44</td>\n",
       "      <td>M</td>\n",
       "      <td>BLACK</td>\n",
       "      <td>951637</td>\n",
       "      <td>171141</td>\n",
       "      <td>40.636362</td>\n",
       "      <td>-74.117505</td>\n",
       "      <td>POINT (-74.117505 40.636362)</td>\n",
       "    </tr>\n",
       "    <tr>\n",
       "      <th>2</th>\n",
       "      <td>261667175</td>\n",
       "      <td>01/10/2023</td>\n",
       "      <td>101.0</td>\n",
       "      <td>ASSAULT 3</td>\n",
       "      <td>344.0</td>\n",
       "      <td>ASSAULT 3 &amp; RELATED OFFENSES</td>\n",
       "      <td>PL 1200001</td>\n",
       "      <td>M</td>\n",
       "      <td>Bronx</td>\n",
       "      <td>42</td>\n",
       "      <td>0</td>\n",
       "      <td>18-24</td>\n",
       "      <td>F</td>\n",
       "      <td>WHITE HISPANIC</td>\n",
       "      <td>1008754</td>\n",
       "      <td>238895</td>\n",
       "      <td>40.822355</td>\n",
       "      <td>-73.911463</td>\n",
       "      <td>POINT (-73.911463 40.822355)</td>\n",
       "    </tr>\n",
       "    <tr>\n",
       "      <th>4</th>\n",
       "      <td>261516485</td>\n",
       "      <td>01/07/2023</td>\n",
       "      <td>397.0</td>\n",
       "      <td>ROBBERY,OPEN AREA UNCLASSIFIED</td>\n",
       "      <td>105.0</td>\n",
       "      <td>ROBBERY</td>\n",
       "      <td>PL 1601001</td>\n",
       "      <td>F</td>\n",
       "      <td>Manhattan</td>\n",
       "      <td>18</td>\n",
       "      <td>0</td>\n",
       "      <td>&lt;18</td>\n",
       "      <td>M</td>\n",
       "      <td>BLACK</td>\n",
       "      <td>988210</td>\n",
       "      <td>218129</td>\n",
       "      <td>40.765390</td>\n",
       "      <td>-73.985702</td>\n",
       "      <td>POINT (-73.985702 40.76539)</td>\n",
       "    </tr>\n",
       "    <tr>\n",
       "      <th>5</th>\n",
       "      <td>261273897</td>\n",
       "      <td>01/03/2023</td>\n",
       "      <td>101.0</td>\n",
       "      <td>ASSAULT 3</td>\n",
       "      <td>344.0</td>\n",
       "      <td>ASSAULT 3 &amp; RELATED OFFENSES</td>\n",
       "      <td>PL 1200001</td>\n",
       "      <td>M</td>\n",
       "      <td>Manhattan</td>\n",
       "      <td>13</td>\n",
       "      <td>0</td>\n",
       "      <td>25-44</td>\n",
       "      <td>F</td>\n",
       "      <td>BLACK</td>\n",
       "      <td>989179</td>\n",
       "      <td>205835</td>\n",
       "      <td>40.731646</td>\n",
       "      <td>-73.982214</td>\n",
       "      <td>POINT (-73.982214 40.731646)</td>\n",
       "    </tr>\n",
       "    <tr>\n",
       "      <th>6</th>\n",
       "      <td>261487453</td>\n",
       "      <td>01/06/2023</td>\n",
       "      <td>244.0</td>\n",
       "      <td>BURGLARY,UNCLASSIFIED,UNKNOWN</td>\n",
       "      <td>107.0</td>\n",
       "      <td>BURGLARY</td>\n",
       "      <td>PL 1402000</td>\n",
       "      <td>F</td>\n",
       "      <td>Queens</td>\n",
       "      <td>103</td>\n",
       "      <td>0</td>\n",
       "      <td>45-64</td>\n",
       "      <td>F</td>\n",
       "      <td>BLACK</td>\n",
       "      <td>1042249</td>\n",
       "      <td>193186</td>\n",
       "      <td>40.696739</td>\n",
       "      <td>-73.790838</td>\n",
       "      <td>POINT (-73.790838 40.696739)</td>\n",
       "    </tr>\n",
       "  </tbody>\n",
       "</table>\n",
       "</div>"
      ],
      "text/plain": [
       "   ARREST_KEY ARREST_DATE  PD_CD                         PD_DESC  KY_CD  \\\n",
       "0   263187871  02/07/2023  105.0               STRANGULATION 1ST  106.0   \n",
       "2   261667175  01/10/2023  101.0                       ASSAULT 3  344.0   \n",
       "4   261516485  01/07/2023  397.0  ROBBERY,OPEN AREA UNCLASSIFIED  105.0   \n",
       "5   261273897  01/03/2023  101.0                       ASSAULT 3  344.0   \n",
       "6   261487453  01/06/2023  244.0   BURGLARY,UNCLASSIFIED,UNKNOWN  107.0   \n",
       "\n",
       "                      OFNS_DESC    LAW_CODE LAW_CAT_CD    ARREST_BORO  \\\n",
       "0                FELONY ASSAULT  PL 1211200          F  Staten Island   \n",
       "2  ASSAULT 3 & RELATED OFFENSES  PL 1200001          M          Bronx   \n",
       "4                       ROBBERY  PL 1601001          F      Manhattan   \n",
       "5  ASSAULT 3 & RELATED OFFENSES  PL 1200001          M      Manhattan   \n",
       "6                      BURGLARY  PL 1402000          F         Queens   \n",
       "\n",
       "   ARREST_PRECINCT  JURISDICTION_CODE AGE_GROUP PERP_SEX       PERP_RACE  \\\n",
       "0              120                  0     25-44        M           BLACK   \n",
       "2               42                  0     18-24        F  WHITE HISPANIC   \n",
       "4               18                  0       <18        M           BLACK   \n",
       "5               13                  0     25-44        F           BLACK   \n",
       "6              103                  0     45-64        F           BLACK   \n",
       "\n",
       "   X_COORD_CD  Y_COORD_CD   Latitude  Longitude      New Georeferenced Column  \n",
       "0      951637      171141  40.636362 -74.117505  POINT (-74.117505 40.636362)  \n",
       "2     1008754      238895  40.822355 -73.911463  POINT (-73.911463 40.822355)  \n",
       "4      988210      218129  40.765390 -73.985702   POINT (-73.985702 40.76539)  \n",
       "5      989179      205835  40.731646 -73.982214  POINT (-73.982214 40.731646)  \n",
       "6     1042249      193186  40.696739 -73.790838  POINT (-73.790838 40.696739)  "
      ]
     },
     "execution_count": 33,
     "metadata": {},
     "output_type": "execute_result"
    }
   ],
   "source": [
    "df1.head()"
   ]
  },
  {
   "cell_type": "code",
   "execution_count": 34,
   "metadata": {},
   "outputs": [],
   "source": [
    "# Group by Borough for highest crime per Borough\n",
    "\n",
    "df2 = df1.groupby(['ARREST_BORO'])['ARREST_KEY'].count().sort_values(ascending=False)"
   ]
  },
  {
   "cell_type": "code",
   "execution_count": 35,
   "metadata": {},
   "outputs": [
    {
     "data": {
      "text/plain": [
       "<AxesSubplot:xlabel='ARREST_BORO'>"
      ]
     },
     "execution_count": 35,
     "metadata": {},
     "output_type": "execute_result"
    },
    {
     "data": {
      "image/png": "[encoded data removed]",
      "text/plain": [
       "<Figure size 432x288 with 1 Axes>"
      ]
     },
     "metadata": {
      "needs_background": "light"
     },
     "output_type": "display_data"
    }
   ],
   "source": [
    "df2.plot()"
   ]
  },
  {
   "cell_type": "code",
   "execution_count": 36,
   "metadata": {},
   "outputs": [],
   "source": [
    "# Brooklyn has highest no of Crimes recorded"
   ]
  },
  {
   "cell_type": "code",
   "execution_count": 37,
   "metadata": {},
   "outputs": [],
   "source": [
    "df3 = df1.groupby(['OFNS_DESC'])['ARREST_KEY'].count().sort_values(ascending=False)"
   ]
  },
  {
   "cell_type": "code",
   "execution_count": 38,
   "metadata": {},
   "outputs": [
    {
     "data": {
      "text/plain": [
       "OFNS_DESC\n",
       "ASSAULT 3 & RELATED OFFENSES            7888\n",
       "PETIT LARCENY                           5868\n",
       "FELONY ASSAULT                          4948\n",
       "DANGEROUS DRUGS                         3623\n",
       "VEHICLE AND TRAFFIC LAWS                3563\n",
       "MISCELLANEOUS PENAL LAW                 3466\n",
       "CRIMINAL MISCHIEF & RELATED OF          2663\n",
       "ROBBERY                                 2659\n",
       "GRAND LARCENY                           2407\n",
       "DANGEROUS WEAPONS                       2208\n",
       "BURGLARY                                1686\n",
       "OFFENSES AGAINST PUBLIC ADMINI          1476\n",
       "OFFENSES INVOLVING FRAUD                1308\n",
       "OTHER OFFENSES RELATED TO THEF          1208\n",
       "SEX CRIMES                              1175\n",
       "OFF. AGNST PUB ORD SENSBLTY &           1038\n",
       "FORGERY                                  944\n",
       "POSSESSION OF STOLEN PROPERTY            892\n",
       "INTOXICATED & IMPAIRED DRIVING           634\n",
       "OTHER TRAFFIC INFRACTION                 599\n",
       "CRIMINAL TRESPASS                        533\n",
       "MURDER & NON-NEGL. MANSLAUGHTE           440\n",
       "GRAND LARCENY OF MOTOR VEHICLE           401\n",
       "NYS LAWS-UNCLASSIFIED FELONY             303\n",
       "OFFENSES AGAINST THE PERSON              276\n",
       "OTHER STATE LAWS                         202\n",
       "RAPE                                     183\n",
       "BURGLAR'S TOOLS                          179\n",
       "FRAUDS                                   174\n",
       "UNAUTHORIZED USE OF A VEHICLE            160\n",
       "INTOXICATED/IMPAIRED DRIVING             108\n",
       "OTHER STATE LAWS (NON PENAL LA            94\n",
       "GAMBLING                                  80\n",
       "CANNABIS RELATED OFFENSES                 69\n",
       "PROSTITUTION & RELATED OFFENSES           59\n",
       "THEFT-FRAUD                               54\n",
       "ADMINISTRATIVE CODE                       48\n",
       "ARSON                                     45\n",
       "THEFT OF SERVICES                         40\n",
       "ALCOHOLIC BEVERAGE CONTROL LAW            38\n",
       "KIDNAPPING & RELATED OFFENSES             23\n",
       "OFFENSES AGAINST PUBLIC SAFETY            22\n",
       "HARRASSMENT 2                             20\n",
       "ENDAN WELFARE INCOMP                      16\n",
       "JOSTLING                                  15\n",
       "AGRICULTURE & MRKTS LAW-UNCLASSIFIED       8\n",
       "MOVING INFRACTIONS                         8\n",
       "CHILD ABANDONMENT/NON SUPPORT              7\n",
       "FRAUDULENT ACCOSTING                       7\n",
       "OFFENSES RELATED TO CHILDREN               7\n",
       "ANTICIPATORY OFFENSES                      7\n",
       "DISORDERLY CONDUCT                         6\n",
       "HOMICIDE-NEGLIGENT,UNCLASSIFIE             6\n",
       "OTHER STATE LAWS (NON PENAL LAW)           5\n",
       "KIDNAPPING                                 4\n",
       "FELONY SEX CRIMES                          2\n",
       "ESCAPE 3                                   1\n",
       "DISRUPTION OF A RELIGIOUS SERV             1\n",
       "UNLAWFUL POSS. WEAP. ON SCHOOL             1\n",
       "Name: ARREST_KEY, dtype: int64"
      ]
     },
     "execution_count": 38,
     "metadata": {},
     "output_type": "execute_result"
    }
   ],
   "source": [
    "# ASSAULT 3 & RELATED OFFENSES is the highest crime type recorded among all 5 Boroughs\n",
    "df3"
   ]
  },
  {
   "cell_type": "code",
   "execution_count": 39,
   "metadata": {},
   "outputs": [],
   "source": [
    "# Lets create a new data frame with top 5 crimes to group by ARREST_BORO\n",
    "\n",
    "df4 = df1.loc[(df1['OFNS_DESC'] == 'ASSAULT 3 & RELATED OFFENSES') | (df1['OFNS_DESC'] == 'PETIT LARCENY')| (df1['OFNS_DESC'] == 'FELONY ASSAULT')| (df1['OFNS_DESC'] == 'DANGEROUS DRUGS') | (df1['OFNS_DESC'] == 'VEHICLE AND TRAFFIC LAWS')]\n"
   ]
  },
  {
   "cell_type": "code",
   "execution_count": 40,
   "metadata": {},
   "outputs": [
    {
     "data": {
      "text/plain": [
       "array(['FELONY ASSAULT', 'ASSAULT 3 & RELATED OFFENSES', 'PETIT LARCENY',\n",
       "       'VEHICLE AND TRAFFIC LAWS', 'DANGEROUS DRUGS'], dtype=object)"
      ]
     },
     "execution_count": 40,
     "metadata": {},
     "output_type": "execute_result"
    }
   ],
   "source": [
    "# Check for unique values\n",
    "df4['OFNS_DESC'].unique()"
   ]
  },
  {
   "cell_type": "code",
   "execution_count": 41,
   "metadata": {},
   "outputs": [],
   "source": [
    "df5 = df4.groupby(['OFNS_DESC','ARREST_BORO'])['ARREST_KEY'].count().sort_values(ascending=False)"
   ]
  },
  {
   "cell_type": "code",
   "execution_count": 42,
   "metadata": {},
   "outputs": [
    {
     "data": {
      "text/plain": [
       "OFNS_DESC                     ARREST_BORO  \n",
       "ASSAULT 3 & RELATED OFFENSES  Bronx            2212\n",
       "                              Brooklyn         2106\n",
       "PETIT LARCENY                 Manhattan        2003\n",
       "ASSAULT 3 & RELATED OFFENSES  Queens           1756\n",
       "                              Manhattan        1530\n",
       "FELONY ASSAULT                Brooklyn         1393\n",
       "PETIT LARCENY                 Brooklyn         1338\n",
       "FELONY ASSAULT                Bronx            1287\n",
       "PETIT LARCENY                 Bronx            1185\n",
       "DANGEROUS DRUGS               Manhattan        1185\n",
       "VEHICLE AND TRAFFIC LAWS      Brooklyn         1140\n",
       "FELONY ASSAULT                Queens           1139\n",
       "PETIT LARCENY                 Queens           1102\n",
       "DANGEROUS DRUGS               Brooklyn          966\n",
       "FELONY ASSAULT                Manhattan         925\n",
       "VEHICLE AND TRAFFIC LAWS      Bronx             901\n",
       "                              Queens            841\n",
       "DANGEROUS DRUGS               Bronx             791\n",
       "                              Queens            498\n",
       "VEHICLE AND TRAFFIC LAWS      Manhattan         407\n",
       "ASSAULT 3 & RELATED OFFENSES  Staten Island     284\n",
       "VEHICLE AND TRAFFIC LAWS      Staten Island     274\n",
       "PETIT LARCENY                 Staten Island     240\n",
       "FELONY ASSAULT                Staten Island     204\n",
       "DANGEROUS DRUGS               Staten Island     183\n",
       "Name: ARREST_KEY, dtype: int64"
      ]
     },
     "execution_count": 42,
     "metadata": {},
     "output_type": "execute_result"
    }
   ],
   "source": [
    "df5"
   ]
  },
  {
   "cell_type": "code",
   "execution_count": 43,
   "metadata": {},
   "outputs": [
    {
     "data": {
      "text/plain": [
       "<AxesSubplot:xlabel='OFNS_DESC,ARREST_BORO'>"
      ]
     },
     "execution_count": 43,
     "metadata": {},
     "output_type": "execute_result"
    },
    {
     "data": {
      "image/png": "[encoded data removed]",
      "text/plain": [
       "<Figure size 432x288 with 1 Axes>"
      ]
     },
     "metadata": {
      "needs_background": "light"
     },
     "output_type": "display_data"
    }
   ],
   "source": [
    "df5.plot(kind='bar')\n",
    "# ASSAULT 3 & RELATED OFFENSES being the most general category type of Crime recorded among the boroughs Bronx, Brooklyn, Queens \n",
    "# and Staten Island"
   ]
  },
  {
   "cell_type": "code",
   "execution_count": 58,
   "metadata": {},
   "outputs": [],
   "source": [
    "# Create new data frame to filter more specific categories of crime that fall under 'ASSAULT 3 & RELATED OFFENSES'\n",
    "df6 = df4.loc[df4['OFNS_DESC'] == 'ASSAULT 3 & RELATED OFFENSES']\n"
   ]
  },
  {
   "cell_type": "code",
   "execution_count": 59,
   "metadata": {},
   "outputs": [
    {
     "data": {
      "text/html": [
       "<div>\n",
       "<style scoped>\n",
       "    .dataframe tbody tr th:only-of-type {\n",
       "        vertical-align: middle;\n",
       "    }\n",
       "\n",
       "    .dataframe tbody tr th {\n",
       "        vertical-align: top;\n",
       "    }\n",
       "\n",
       "    .dataframe thead th {\n",
       "        text-align: right;\n",
       "    }\n",
       "</style>\n",
       "<table border=\"1\" class=\"dataframe\">\n",
       "  <thead>\n",
       "    <tr style=\"text-align: right;\">\n",
       "      <th></th>\n",
       "      <th>ARREST_KEY</th>\n",
       "      <th>ARREST_DATE</th>\n",
       "      <th>PD_CD</th>\n",
       "      <th>PD_DESC</th>\n",
       "      <th>KY_CD</th>\n",
       "      <th>OFNS_DESC</th>\n",
       "      <th>LAW_CODE</th>\n",
       "      <th>LAW_CAT_CD</th>\n",
       "      <th>ARREST_BORO</th>\n",
       "      <th>ARREST_PRECINCT</th>\n",
       "      <th>JURISDICTION_CODE</th>\n",
       "      <th>AGE_GROUP</th>\n",
       "      <th>PERP_SEX</th>\n",
       "      <th>PERP_RACE</th>\n",
       "      <th>X_COORD_CD</th>\n",
       "      <th>Y_COORD_CD</th>\n",
       "      <th>Latitude</th>\n",
       "      <th>Longitude</th>\n",
       "      <th>New Georeferenced Column</th>\n",
       "    </tr>\n",
       "  </thead>\n",
       "  <tbody>\n",
       "    <tr>\n",
       "      <th>2</th>\n",
       "      <td>261667175</td>\n",
       "      <td>01/10/2023</td>\n",
       "      <td>101.0</td>\n",
       "      <td>ASSAULT 3</td>\n",
       "      <td>344.0</td>\n",
       "      <td>ASSAULT 3 &amp; RELATED OFFENSES</td>\n",
       "      <td>PL 1200001</td>\n",
       "      <td>M</td>\n",
       "      <td>Bronx</td>\n",
       "      <td>42</td>\n",
       "      <td>0</td>\n",
       "      <td>18-24</td>\n",
       "      <td>F</td>\n",
       "      <td>WHITE HISPANIC</td>\n",
       "      <td>1008754</td>\n",
       "      <td>238895</td>\n",
       "      <td>40.822355</td>\n",
       "      <td>-73.911463</td>\n",
       "      <td>POINT (-73.911463 40.822355)</td>\n",
       "    </tr>\n",
       "    <tr>\n",
       "      <th>5</th>\n",
       "      <td>261273897</td>\n",
       "      <td>01/03/2023</td>\n",
       "      <td>101.0</td>\n",
       "      <td>ASSAULT 3</td>\n",
       "      <td>344.0</td>\n",
       "      <td>ASSAULT 3 &amp; RELATED OFFENSES</td>\n",
       "      <td>PL 1200001</td>\n",
       "      <td>M</td>\n",
       "      <td>Manhattan</td>\n",
       "      <td>13</td>\n",
       "      <td>0</td>\n",
       "      <td>25-44</td>\n",
       "      <td>F</td>\n",
       "      <td>BLACK</td>\n",
       "      <td>989179</td>\n",
       "      <td>205835</td>\n",
       "      <td>40.731646</td>\n",
       "      <td>-73.982214</td>\n",
       "      <td>POINT (-73.982214 40.731646)</td>\n",
       "    </tr>\n",
       "    <tr>\n",
       "      <th>7</th>\n",
       "      <td>262291240</td>\n",
       "      <td>01/21/2023</td>\n",
       "      <td>101.0</td>\n",
       "      <td>ASSAULT 3</td>\n",
       "      <td>344.0</td>\n",
       "      <td>ASSAULT 3 &amp; RELATED OFFENSES</td>\n",
       "      <td>PL 1200001</td>\n",
       "      <td>M</td>\n",
       "      <td>Brooklyn</td>\n",
       "      <td>75</td>\n",
       "      <td>0</td>\n",
       "      <td>25-44</td>\n",
       "      <td>M</td>\n",
       "      <td>BLACK</td>\n",
       "      <td>1016237</td>\n",
       "      <td>180818</td>\n",
       "      <td>40.662924</td>\n",
       "      <td>-73.884702</td>\n",
       "      <td>POINT (-73.884702 40.662924)</td>\n",
       "    </tr>\n",
       "    <tr>\n",
       "      <th>8</th>\n",
       "      <td>261927480</td>\n",
       "      <td>01/14/2023</td>\n",
       "      <td>101.0</td>\n",
       "      <td>ASSAULT 3</td>\n",
       "      <td>344.0</td>\n",
       "      <td>ASSAULT 3 &amp; RELATED OFFENSES</td>\n",
       "      <td>PL 1200001</td>\n",
       "      <td>M</td>\n",
       "      <td>Brooklyn</td>\n",
       "      <td>67</td>\n",
       "      <td>0</td>\n",
       "      <td>25-44</td>\n",
       "      <td>M</td>\n",
       "      <td>BLACK</td>\n",
       "      <td>1006227</td>\n",
       "      <td>178986</td>\n",
       "      <td>40.657926</td>\n",
       "      <td>-73.920790</td>\n",
       "      <td>POINT (-73.92079 40.657926)</td>\n",
       "    </tr>\n",
       "    <tr>\n",
       "      <th>12</th>\n",
       "      <td>263076926</td>\n",
       "      <td>02/05/2023</td>\n",
       "      <td>101.0</td>\n",
       "      <td>ASSAULT 3</td>\n",
       "      <td>344.0</td>\n",
       "      <td>ASSAULT 3 &amp; RELATED OFFENSES</td>\n",
       "      <td>PL 1200001</td>\n",
       "      <td>M</td>\n",
       "      <td>Bronx</td>\n",
       "      <td>42</td>\n",
       "      <td>0</td>\n",
       "      <td>25-44</td>\n",
       "      <td>F</td>\n",
       "      <td>BLACK</td>\n",
       "      <td>1010515</td>\n",
       "      <td>245443</td>\n",
       "      <td>40.840323</td>\n",
       "      <td>-73.905074</td>\n",
       "      <td>POINT (-73.905074 40.840323)</td>\n",
       "    </tr>\n",
       "    <tr>\n",
       "      <th>...</th>\n",
       "      <td>...</td>\n",
       "      <td>...</td>\n",
       "      <td>...</td>\n",
       "      <td>...</td>\n",
       "      <td>...</td>\n",
       "      <td>...</td>\n",
       "      <td>...</td>\n",
       "      <td>...</td>\n",
       "      <td>...</td>\n",
       "      <td>...</td>\n",
       "      <td>...</td>\n",
       "      <td>...</td>\n",
       "      <td>...</td>\n",
       "      <td>...</td>\n",
       "      <td>...</td>\n",
       "      <td>...</td>\n",
       "      <td>...</td>\n",
       "      <td>...</td>\n",
       "      <td>...</td>\n",
       "    </tr>\n",
       "    <tr>\n",
       "      <th>54554</th>\n",
       "      <td>265340993</td>\n",
       "      <td>03/19/2023</td>\n",
       "      <td>114.0</td>\n",
       "      <td>OBSTR BREATH/CIRCUL</td>\n",
       "      <td>344.0</td>\n",
       "      <td>ASSAULT 3 &amp; RELATED OFFENSES</td>\n",
       "      <td>PL 1211100</td>\n",
       "      <td>M</td>\n",
       "      <td>Queens</td>\n",
       "      <td>100</td>\n",
       "      <td>0</td>\n",
       "      <td>25-44</td>\n",
       "      <td>M</td>\n",
       "      <td>BLACK</td>\n",
       "      <td>1036548</td>\n",
       "      <td>153376</td>\n",
       "      <td>40.587506</td>\n",
       "      <td>-73.811705</td>\n",
       "      <td>POINT (-73.811705 40.587506)</td>\n",
       "    </tr>\n",
       "    <tr>\n",
       "      <th>54562</th>\n",
       "      <td>265891025</td>\n",
       "      <td>03/30/2023</td>\n",
       "      <td>101.0</td>\n",
       "      <td>ASSAULT 3</td>\n",
       "      <td>344.0</td>\n",
       "      <td>ASSAULT 3 &amp; RELATED OFFENSES</td>\n",
       "      <td>PL 1200001</td>\n",
       "      <td>M</td>\n",
       "      <td>Bronx</td>\n",
       "      <td>42</td>\n",
       "      <td>0</td>\n",
       "      <td>18-24</td>\n",
       "      <td>M</td>\n",
       "      <td>BLACK</td>\n",
       "      <td>1009417</td>\n",
       "      <td>240071</td>\n",
       "      <td>40.825581</td>\n",
       "      <td>-73.909065</td>\n",
       "      <td>POINT (-73.909065 40.825581)</td>\n",
       "    </tr>\n",
       "    <tr>\n",
       "      <th>54567</th>\n",
       "      <td>265546491</td>\n",
       "      <td>03/23/2023</td>\n",
       "      <td>114.0</td>\n",
       "      <td>OBSTR BREATH/CIRCUL</td>\n",
       "      <td>344.0</td>\n",
       "      <td>ASSAULT 3 &amp; RELATED OFFENSES</td>\n",
       "      <td>PL 1211100</td>\n",
       "      <td>M</td>\n",
       "      <td>Brooklyn</td>\n",
       "      <td>63</td>\n",
       "      <td>0</td>\n",
       "      <td>25-44</td>\n",
       "      <td>M</td>\n",
       "      <td>BLACK</td>\n",
       "      <td>1006047</td>\n",
       "      <td>171107</td>\n",
       "      <td>40.636301</td>\n",
       "      <td>-73.921462</td>\n",
       "      <td>POINT (-73.921462 40.636301)</td>\n",
       "    </tr>\n",
       "    <tr>\n",
       "      <th>54572</th>\n",
       "      <td>265375611</td>\n",
       "      <td>03/20/2023</td>\n",
       "      <td>113.0</td>\n",
       "      <td>MENACING,UNCLASSIFIED</td>\n",
       "      <td>344.0</td>\n",
       "      <td>ASSAULT 3 &amp; RELATED OFFENSES</td>\n",
       "      <td>PL 1201401</td>\n",
       "      <td>M</td>\n",
       "      <td>Manhattan</td>\n",
       "      <td>33</td>\n",
       "      <td>0</td>\n",
       "      <td>18-24</td>\n",
       "      <td>M</td>\n",
       "      <td>WHITE HISPANIC</td>\n",
       "      <td>1000542</td>\n",
       "      <td>244360</td>\n",
       "      <td>40.837374</td>\n",
       "      <td>-73.941122</td>\n",
       "      <td>POINT (-73.941122 40.837374)</td>\n",
       "    </tr>\n",
       "    <tr>\n",
       "      <th>54574</th>\n",
       "      <td>265277526</td>\n",
       "      <td>03/17/2023</td>\n",
       "      <td>101.0</td>\n",
       "      <td>ASSAULT 3</td>\n",
       "      <td>344.0</td>\n",
       "      <td>ASSAULT 3 &amp; RELATED OFFENSES</td>\n",
       "      <td>PL 1200001</td>\n",
       "      <td>M</td>\n",
       "      <td>Queens</td>\n",
       "      <td>112</td>\n",
       "      <td>0</td>\n",
       "      <td>65+</td>\n",
       "      <td>M</td>\n",
       "      <td>ASIAN / PACIFIC ISLANDER</td>\n",
       "      <td>1024734</td>\n",
       "      <td>197982</td>\n",
       "      <td>40.709999</td>\n",
       "      <td>-73.853973</td>\n",
       "      <td>POINT (-73.853973 40.709999)</td>\n",
       "    </tr>\n",
       "  </tbody>\n",
       "</table>\n",
       "<p>7888 rows × 19 columns</p>\n",
       "</div>"
      ],
      "text/plain": [
       "       ARREST_KEY ARREST_DATE  PD_CD                PD_DESC  KY_CD  \\\n",
       "2       261667175  01/10/2023  101.0              ASSAULT 3  344.0   \n",
       "5       261273897  01/03/2023  101.0              ASSAULT 3  344.0   \n",
       "7       262291240  01/21/2023  101.0              ASSAULT 3  344.0   \n",
       "8       261927480  01/14/2023  101.0              ASSAULT 3  344.0   \n",
       "12      263076926  02/05/2023  101.0              ASSAULT 3  344.0   \n",
       "...           ...         ...    ...                    ...    ...   \n",
       "54554   265340993  03/19/2023  114.0    OBSTR BREATH/CIRCUL  344.0   \n",
       "54562   265891025  03/30/2023  101.0              ASSAULT 3  344.0   \n",
       "54567   265546491  03/23/2023  114.0    OBSTR BREATH/CIRCUL  344.0   \n",
       "54572   265375611  03/20/2023  113.0  MENACING,UNCLASSIFIED  344.0   \n",
       "54574   265277526  03/17/2023  101.0              ASSAULT 3  344.0   \n",
       "\n",
       "                          OFNS_DESC    LAW_CODE LAW_CAT_CD ARREST_BORO  \\\n",
       "2      ASSAULT 3 & RELATED OFFENSES  PL 1200001          M       Bronx   \n",
       "5      ASSAULT 3 & RELATED OFFENSES  PL 1200001          M   Manhattan   \n",
       "7      ASSAULT 3 & RELATED OFFENSES  PL 1200001          M    Brooklyn   \n",
       "8      ASSAULT 3 & RELATED OFFENSES  PL 1200001          M    Brooklyn   \n",
       "12     ASSAULT 3 & RELATED OFFENSES  PL 1200001          M       Bronx   \n",
       "...                             ...         ...        ...         ...   \n",
       "54554  ASSAULT 3 & RELATED OFFENSES  PL 1211100          M      Queens   \n",
       "54562  ASSAULT 3 & RELATED OFFENSES  PL 1200001          M       Bronx   \n",
       "54567  ASSAULT 3 & RELATED OFFENSES  PL 1211100          M    Brooklyn   \n",
       "54572  ASSAULT 3 & RELATED OFFENSES  PL 1201401          M   Manhattan   \n",
       "54574  ASSAULT 3 & RELATED OFFENSES  PL 1200001          M      Queens   \n",
       "\n",
       "       ARREST_PRECINCT  JURISDICTION_CODE AGE_GROUP PERP_SEX  \\\n",
       "2                   42                  0     18-24        F   \n",
       "5                   13                  0     25-44        F   \n",
       "7                   75                  0     25-44        M   \n",
       "8                   67                  0     25-44        M   \n",
       "12                  42                  0     25-44        F   \n",
       "...                ...                ...       ...      ...   \n",
       "54554              100                  0     25-44        M   \n",
       "54562               42                  0     18-24        M   \n",
       "54567               63                  0     25-44        M   \n",
       "54572               33                  0     18-24        M   \n",
       "54574              112                  0       65+        M   \n",
       "\n",
       "                      PERP_RACE  X_COORD_CD  Y_COORD_CD   Latitude  Longitude  \\\n",
       "2                WHITE HISPANIC     1008754      238895  40.822355 -73.911463   \n",
       "5                         BLACK      989179      205835  40.731646 -73.982214   \n",
       "7                         BLACK     1016237      180818  40.662924 -73.884702   \n",
       "8                         BLACK     1006227      178986  40.657926 -73.920790   \n",
       "12                        BLACK     1010515      245443  40.840323 -73.905074   \n",
       "...                         ...         ...         ...        ...        ...   \n",
       "54554                     BLACK     1036548      153376  40.587506 -73.811705   \n",
       "54562                     BLACK     1009417      240071  40.825581 -73.909065   \n",
       "54567                     BLACK     1006047      171107  40.636301 -73.921462   \n",
       "54572            WHITE HISPANIC     1000542      244360  40.837374 -73.941122   \n",
       "54574  ASIAN / PACIFIC ISLANDER     1024734      197982  40.709999 -73.853973   \n",
       "\n",
       "           New Georeferenced Column  \n",
       "2      POINT (-73.911463 40.822355)  \n",
       "5      POINT (-73.982214 40.731646)  \n",
       "7      POINT (-73.884702 40.662924)  \n",
       "8       POINT (-73.92079 40.657926)  \n",
       "12     POINT (-73.905074 40.840323)  \n",
       "...                             ...  \n",
       "54554  POINT (-73.811705 40.587506)  \n",
       "54562  POINT (-73.909065 40.825581)  \n",
       "54567  POINT (-73.921462 40.636301)  \n",
       "54572  POINT (-73.941122 40.837374)  \n",
       "54574  POINT (-73.853973 40.709999)  \n",
       "\n",
       "[7888 rows x 19 columns]"
      ]
     },
     "execution_count": 59,
     "metadata": {},
     "output_type": "execute_result"
    }
   ],
   "source": [
    "df6"
   ]
  },
  {
   "cell_type": "code",
   "execution_count": 60,
   "metadata": {},
   "outputs": [],
   "source": [
    "df7 = df6.groupby(['PD_DESC','ARREST_BORO'])['ARREST_KEY'].count().sort_values(ascending=False)"
   ]
  },
  {
   "cell_type": "code",
   "execution_count": 61,
   "metadata": {},
   "outputs": [
    {
     "data": {
      "text/plain": [
       "PD_DESC                ARREST_BORO  \n",
       "ASSAULT 3              Bronx            1537\n",
       "                       Brooklyn         1498\n",
       "                       Queens           1301\n",
       "                       Manhattan        1167\n",
       "MENACING,UNCLASSIFIED  Bronx             418\n",
       "                       Brooklyn          390\n",
       "                       Queens            293\n",
       "OBSTR BREATH/CIRCUL    Bronx             257\n",
       "MENACING,UNCLASSIFIED  Manhattan         241\n",
       "OBSTR BREATH/CIRCUL    Brooklyn          218\n",
       "ASSAULT 3              Staten Island     205\n",
       "OBSTR BREATH/CIRCUL    Queens            162\n",
       "                       Manhattan         122\n",
       "                       Staten Island      40\n",
       "MENACING,UNCLASSIFIED  Staten Island      39\n",
       "Name: ARREST_KEY, dtype: int64"
      ]
     },
     "execution_count": 61,
     "metadata": {},
     "output_type": "execute_result"
    }
   ],
   "source": [
    "# Assault 3 is the highest crime among Boroughs Bronx, Brooklyn, Queens and Manhattan\n",
    "df7"
   ]
  },
  {
   "cell_type": "code",
   "execution_count": 70,
   "metadata": {},
   "outputs": [],
   "source": [
    "df8 = df4.groupby(['PERP_RACE','OFNS_DESC'])['ARREST_KEY'].count().sort_values(ascending=False)"
   ]
  },
  {
   "cell_type": "code",
   "execution_count": 71,
   "metadata": {},
   "outputs": [
    {
     "data": {
      "text/plain": [
       "PERP_RACE                       OFNS_DESC                   \n",
       "BLACK                           ASSAULT 3 & RELATED OFFENSES    3825\n",
       "                                PETIT LARCENY                   2659\n",
       "                                FELONY ASSAULT                  2440\n",
       "WHITE HISPANIC                  ASSAULT 3 & RELATED OFFENSES    2086\n",
       "BLACK                           VEHICLE AND TRAFFIC LAWS        1813\n",
       "                                DANGEROUS DRUGS                 1697\n",
       "WHITE HISPANIC                  PETIT LARCENY                   1532\n",
       "                                FELONY ASSAULT                  1288\n",
       "WHITE                           PETIT LARCENY                    976\n",
       "WHITE HISPANIC                  DANGEROUS DRUGS                  941\n",
       "                                VEHICLE AND TRAFFIC LAWS         867\n",
       "BLACK HISPANIC                  ASSAULT 3 & RELATED OFFENSES     717\n",
       "WHITE                           ASSAULT 3 & RELATED OFFENSES     679\n",
       "ASIAN / PACIFIC ISLANDER        ASSAULT 3 & RELATED OFFENSES     478\n",
       "BLACK HISPANIC                  PETIT LARCENY                    444\n",
       "WHITE                           DANGEROUS DRUGS                  438\n",
       "BLACK HISPANIC                  FELONY ASSAULT                   434\n",
       "WHITE                           FELONY ASSAULT                   386\n",
       "BLACK HISPANIC                  VEHICLE AND TRAFFIC LAWS         369\n",
       "                                DANGEROUS DRUGS                  356\n",
       "ASIAN / PACIFIC ISLANDER        FELONY ASSAULT                   339\n",
       "WHITE                           VEHICLE AND TRAFFIC LAWS         271\n",
       "ASIAN / PACIFIC ISLANDER        PETIT LARCENY                    195\n",
       "                                VEHICLE AND TRAFFIC LAWS         183\n",
       "                                DANGEROUS DRUGS                  171\n",
       "UNKNOWN                         ASSAULT 3 & RELATED OFFENSES      67\n",
       "                                PETIT LARCENY                     46\n",
       "                                VEHICLE AND TRAFFIC LAWS          42\n",
       "                                FELONY ASSAULT                    39\n",
       "AMERICAN INDIAN/ALASKAN NATIVE  ASSAULT 3 & RELATED OFFENSES      36\n",
       "                                FELONY ASSAULT                    22\n",
       "                                VEHICLE AND TRAFFIC LAWS          18\n",
       "                                PETIT LARCENY                     16\n",
       "UNKNOWN                         DANGEROUS DRUGS                   13\n",
       "AMERICAN INDIAN/ALASKAN NATIVE  DANGEROUS DRUGS                    7\n",
       "Name: ARREST_KEY, dtype: int64"
      ]
     },
     "execution_count": 71,
     "metadata": {},
     "output_type": "execute_result"
    }
   ],
   "source": [
    "df8"
   ]
  },
  {
   "cell_type": "code",
   "execution_count": null,
   "metadata": {},
   "outputs": [],
   "source": [
    "# Conclusion: # ASSAULT 3 & RELATED OFFENSES being the most general category type of Crime recorded among the boroughs Bronx, Brooklyn, Queens \n",
    "# and Staten Island."
   ]
  }
 ],
 "metadata": {
  "kernelspec": {
   "display_name": "Python 3",
   "language": "python",
   "name": "python3"
  },
  "language_info": {
   "codemirror_mode": {
    "name": "ipython",
    "version": 3
   },
   "file_extension": ".py",
   "mimetype": "text/x-python",
   "name": "python",
   "nbconvert_exporter": "python",
   "pygments_lexer": "ipython3",
   "version": "3.8.5"
  }
 },
 "nbformat": 4,
 "nbformat_minor": 4
}
